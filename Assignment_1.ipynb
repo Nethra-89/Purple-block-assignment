{
  "nbformat": 4,
  "nbformat_minor": 0,
  "metadata": {
    "colab": {
      "provenance": []
    },
    "kernelspec": {
      "name": "python3",
      "display_name": "Python 3"
    },
    "language_info": {
      "name": "python"
    }
  },
  "cells": [
    {
      "cell_type": "code",
      "execution_count": 1,
      "metadata": {
        "colab": {
          "base_uri": "https://localhost:8080/"
        },
        "id": "bpQRlXkQlbMT",
        "outputId": "b198de90-7e1a-4dff-abdb-c009552032fd"
      },
      "outputs": [
        {
          "output_type": "stream",
          "name": "stdout",
          "text": [
            "Best Buy Price: 1\n",
            "Best Sell Price: 9\n"
          ]
        }
      ],
      "source": [
        "def best_buy_sell_prices(prices):\n",
        "    if not prices or len(prices) < 2:\n",
        "        return None, None\n",
        "\n",
        "    min_price = prices[0]\n",
        "    best_buy = prices[0]\n",
        "    best_sell = prices[1]\n",
        "    max_profit = best_sell - best_buy\n",
        "\n",
        "    for price in prices[1:]:\n",
        "\n",
        "        if price - min_price > max_profit:\n",
        "            max_profit = price - min_price\n",
        "            best_buy = min_price\n",
        "            best_sell = price\n",
        "\n",
        "\n",
        "        if price < min_price:\n",
        "            min_price = price\n",
        "\n",
        "    return best_buy, best_sell\n",
        "\n",
        "\n",
        "prices = [5, 2, 1, 6, 9, 7]\n",
        "buy, sell = best_buy_sell_prices(prices)\n",
        "\n",
        "print(\"Best Buy Price:\", buy)\n",
        "print(\"Best Sell Price:\", sell)\n"
      ]
    }
  ]
}